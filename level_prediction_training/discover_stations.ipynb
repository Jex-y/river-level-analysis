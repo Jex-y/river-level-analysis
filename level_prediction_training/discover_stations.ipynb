{
 "cells": [
  {
   "cell_type": "code",
   "execution_count": 1,
   "metadata": {},
   "outputs": [],
   "source": [
    "from datetime import timedelta\n",
    "\n",
    "import polars as pl\n",
    "from src.hydrology import FloodingApi, HydrologyApi, Parameter\n"
   ]
  },
  {
   "cell_type": "code",
   "execution_count": 2,
   "metadata": {},
   "outputs": [
    {
     "data": {
      "text/html": [
       "<div><style>\n",
       ".dataframe > thead > tr,\n",
       ".dataframe > tbody > tr {\n",
       "  text-align: right;\n",
       "  white-space: pre-wrap;\n",
       "}\n",
       "</style>\n",
       "<small>shape: (6, 6)</small><table border=\"1\" class=\"dataframe\"><thead><tr><th>label</th><th>notation</th><th>lat</th><th>long</th><th>RLOIid</th><th>parameter</th></tr><tr><td>str</td><td>str</td><td>f64</td><td>f64</td><td>str</td><td>str</td></tr></thead><tbody><tr><td>&quot;North Dalton&quot;</td><td>&quot;9fcbf8c6-b643-4f58-a2be-8beff3…</td><td>54.823801</td><td>-1.365798</td><td>&quot;&quot;</td><td>&quot;rainfall&quot;</td></tr><tr><td>&quot;Peterlee&quot;</td><td>&quot;935b389b-7ab8-46e6-9758-f8eb38…</td><td>54.761165</td><td>-1.3407</td><td>&quot;&quot;</td><td>&quot;rainfall&quot;</td></tr><tr><td>&quot;Harpington Hill Farm&quot;</td><td>&quot;bf61ce31-b20e-4593-85dc-a08313…</td><td>54.633882</td><td>-1.480513</td><td>&quot;&quot;</td><td>&quot;rainfall&quot;</td></tr><tr><td>&quot;Knitlsey Mill&quot;</td><td>&quot;524a8fa0-d70b-4a0a-b178-ca765e…</td><td>54.829708</td><td>-1.807996</td><td>&quot;&quot;</td><td>&quot;rainfall&quot;</td></tr><tr><td>&quot;Fulwell&quot;</td><td>&quot;513abf6b-b269-4400-8828-7e833f…</td><td>54.939078</td><td>-1.393689</td><td>&quot;&quot;</td><td>&quot;rainfall&quot;</td></tr><tr><td>&quot;Tunstall&quot;</td><td>&quot;051f1b2a-6aca-4402-8956-5474ad…</td><td>54.761793</td><td>-1.902523</td><td>&quot;&quot;</td><td>&quot;rainfall&quot;</td></tr></tbody></table></div>"
      ],
      "text/plain": [
       "shape: (6, 6)\n",
       "┌──────────────────────┬──────────────────────────────┬───────────┬───────────┬────────┬───────────┐\n",
       "│ label                ┆ notation                     ┆ lat       ┆ long      ┆ RLOIid ┆ parameter │\n",
       "│ ---                  ┆ ---                          ┆ ---       ┆ ---       ┆ ---    ┆ ---       │\n",
       "│ str                  ┆ str                          ┆ f64       ┆ f64       ┆ str    ┆ str       │\n",
       "╞══════════════════════╪══════════════════════════════╪═══════════╪═══════════╪════════╪═══════════╡\n",
       "│ North Dalton         ┆ 9fcbf8c6-b643-4f58-a2be-8bef ┆ 54.823801 ┆ -1.365798 ┆        ┆ rainfall  │\n",
       "│                      ┆ f3…                          ┆           ┆           ┆        ┆           │\n",
       "│ Peterlee             ┆ 935b389b-7ab8-46e6-9758-f8eb ┆ 54.761165 ┆ -1.3407   ┆        ┆ rainfall  │\n",
       "│                      ┆ 38…                          ┆           ┆           ┆        ┆           │\n",
       "│ Harpington Hill Farm ┆ bf61ce31-b20e-4593-85dc-a083 ┆ 54.633882 ┆ -1.480513 ┆        ┆ rainfall  │\n",
       "│                      ┆ 13…                          ┆           ┆           ┆        ┆           │\n",
       "│ Knitlsey Mill        ┆ 524a8fa0-d70b-4a0a-b178-ca76 ┆ 54.829708 ┆ -1.807996 ┆        ┆ rainfall  │\n",
       "│                      ┆ 5e…                          ┆           ┆           ┆        ┆           │\n",
       "│ Fulwell              ┆ 513abf6b-b269-4400-8828-7e83 ┆ 54.939078 ┆ -1.393689 ┆        ┆ rainfall  │\n",
       "│                      ┆ 3f…                          ┆           ┆           ┆        ┆           │\n",
       "│ Tunstall             ┆ 051f1b2a-6aca-4402-8956-5474 ┆ 54.761793 ┆ -1.902523 ┆        ┆ rainfall  │\n",
       "│                      ┆ ad…                          ┆           ┆           ┆        ┆           │\n",
       "└──────────────────────┴──────────────────────────────┴───────────┴───────────┴────────┴───────────┘"
      ]
     },
     "execution_count": 2,
     "metadata": {},
     "output_type": "execute_result"
    }
   ],
   "source": [
    "hydro_api = HydrologyApi(cache_max_age=timedelta(seconds=10))\n",
    "\n",
    "hydro_level_stations = (\n",
    "    hydro_api.get_stations(Parameter.LEVEL, river='River Wear')\n",
    "    .collect()\n",
    "    .with_columns(pl.lit(Parameter.LEVEL).alias('parameter'))\n",
    ")\n",
    "\n",
    "hydro_rainfall_stations = (\n",
    "    hydro_api.get_stations(Parameter.RAINFALL, position=(54.774, -1.558), radius=15)\n",
    "    .filter(\n",
    "        ~pl.col('label').is_in(\n",
    "            # Stations with lots of missing data\n",
    "            [\n",
    "                'ESH Winning',\n",
    "                'Stanley Hustledown',\n",
    "                'Washington',\n",
    "                'Evenwood Gate'\n",
    "            ]\n",
    "        )\n",
    "    )\n",
    "    .collect()\n",
    "    .with_columns(pl.lit(Parameter.RAINFALL).alias('parameter'))\n",
    ")\n",
    "\n",
    "hydro_rainfall_stations\n"
   ]
  },
  {
   "cell_type": "code",
   "execution_count": 3,
   "metadata": {},
   "outputs": [
    {
     "data": {
      "text/html": [
       "<div><style>\n",
       ".dataframe > thead > tr,\n",
       ".dataframe > tbody > tr {\n",
       "  text-align: right;\n",
       "  white-space: pre-wrap;\n",
       "}\n",
       "</style>\n",
       "<small>shape: (8, 6)</small><table border=\"1\" class=\"dataframe\"><thead><tr><th>label</th><th>notation</th><th>RLOIid</th><th>lat</th><th>long</th><th>parameter</th></tr><tr><td>str</td><td>str</td><td>str</td><td>f64</td><td>f64</td><td>str</td></tr></thead><tbody><tr><td>&quot;Rainfall station&quot;</td><td>&quot;023839&quot;</td><td>&quot;&quot;</td><td>54.829815</td><td>-1.807716</td><td>&quot;rainfall&quot;</td></tr><tr><td>&quot;Rainfall station&quot;</td><td>&quot;018777&quot;</td><td>&quot;&quot;</td><td>54.860973</td><td>-1.670477</td><td>&quot;rainfall&quot;</td></tr><tr><td>&quot;Rainfall station&quot;</td><td>&quot;023164&quot;</td><td>&quot;&quot;</td><td>54.610418</td><td>-1.740626</td><td>&quot;rainfall&quot;</td></tr><tr><td>&quot;Rainfall station&quot;</td><td>&quot;025394&quot;</td><td>&quot;&quot;</td><td>54.894495</td><td>-1.489343</td><td>&quot;rainfall&quot;</td></tr><tr><td>&quot;Rainfall station&quot;</td><td>&quot;032822&quot;</td><td>&quot;&quot;</td><td>54.633845</td><td>-1.480219</td><td>&quot;rainfall&quot;</td></tr><tr><td>&quot;Rainfall station&quot;</td><td>&quot;021028&quot;</td><td>&quot;&quot;</td><td>54.938987</td><td>-1.393566</td><td>&quot;rainfall&quot;</td></tr><tr><td>&quot;Rainfall station&quot;</td><td>&quot;026090&quot;</td><td>&quot;&quot;</td><td>54.760776</td><td>-1.340287</td><td>&quot;rainfall&quot;</td></tr><tr><td>&quot;Rainfall station&quot;</td><td>&quot;025878&quot;</td><td>&quot;&quot;</td><td>54.823818</td><td>-1.36572</td><td>&quot;rainfall&quot;</td></tr></tbody></table></div>"
      ],
      "text/plain": [
       "shape: (8, 6)\n",
       "┌──────────────────┬──────────┬────────┬───────────┬───────────┬───────────┐\n",
       "│ label            ┆ notation ┆ RLOIid ┆ lat       ┆ long      ┆ parameter │\n",
       "│ ---              ┆ ---      ┆ ---    ┆ ---       ┆ ---       ┆ ---       │\n",
       "│ str              ┆ str      ┆ str    ┆ f64       ┆ f64       ┆ str       │\n",
       "╞══════════════════╪══════════╪════════╪═══════════╪═══════════╪═══════════╡\n",
       "│ Rainfall station ┆ 023839   ┆        ┆ 54.829815 ┆ -1.807716 ┆ rainfall  │\n",
       "│ Rainfall station ┆ 018777   ┆        ┆ 54.860973 ┆ -1.670477 ┆ rainfall  │\n",
       "│ Rainfall station ┆ 023164   ┆        ┆ 54.610418 ┆ -1.740626 ┆ rainfall  │\n",
       "│ Rainfall station ┆ 025394   ┆        ┆ 54.894495 ┆ -1.489343 ┆ rainfall  │\n",
       "│ Rainfall station ┆ 032822   ┆        ┆ 54.633845 ┆ -1.480219 ┆ rainfall  │\n",
       "│ Rainfall station ┆ 021028   ┆        ┆ 54.938987 ┆ -1.393566 ┆ rainfall  │\n",
       "│ Rainfall station ┆ 026090   ┆        ┆ 54.760776 ┆ -1.340287 ┆ rainfall  │\n",
       "│ Rainfall station ┆ 025878   ┆        ┆ 54.823818 ┆ -1.36572  ┆ rainfall  │\n",
       "└──────────────────┴──────────┴────────┴───────────┴───────────┴───────────┘"
      ]
     },
     "execution_count": 3,
     "metadata": {},
     "output_type": "execute_result"
    }
   ],
   "source": [
    "flooding_api = FloodingApi()\n",
    "\n",
    "flooding_level_stations = (\n",
    "    (await flooding_api.get_stations(Parameter.LEVEL, river='River Wear'))\n",
    "    .with_columns(pl.lit(Parameter.LEVEL).alias('parameter'))\n",
    ")\n",
    "\n",
    "flooding_rainfall_stations = (\n",
    "    (await flooding_api.get_stations(Parameter.RAINFALL, position=(54.774, -1.558), radius=20))\n",
    "    .with_columns(pl.lit(Parameter.RAINFALL).alias('parameter'))\n",
    ")\n",
    "\n",
    "flooding_rainfall_stations"
   ]
  },
  {
   "cell_type": "markdown",
   "metadata": {},
   "source": [
    "## Joining rainfall stations\n",
    "\n",
    "There isn't a trivial way to join the rainfall stations, so we find the closest match by using the latitude and longitude of the stations."
   ]
  },
  {
   "cell_type": "code",
   "execution_count": 4,
   "metadata": {},
   "outputs": [
    {
     "data": {
      "text/html": [
       "<div><style>\n",
       ".dataframe > thead > tr,\n",
       ".dataframe > tbody > tr {\n",
       "  text-align: right;\n",
       "  white-space: pre-wrap;\n",
       "}\n",
       "</style>\n",
       "<small>shape: (5, 4)</small><table border=\"1\" class=\"dataframe\"><thead><tr><th>label</th><th>hydrology_api_notation</th><th>parameter</th><th>flooding_api_notation</th></tr><tr><td>str</td><td>str</td><td>str</td><td>str</td></tr></thead><tbody><tr><td>&quot;North Dalton&quot;</td><td>&quot;9fcbf8c6-b643-4f58-a2be-8beff3…</td><td>&quot;rainfall&quot;</td><td>&quot;025878&quot;</td></tr><tr><td>&quot;Peterlee&quot;</td><td>&quot;935b389b-7ab8-46e6-9758-f8eb38…</td><td>&quot;rainfall&quot;</td><td>&quot;026090&quot;</td></tr><tr><td>&quot;Harpington Hill Farm&quot;</td><td>&quot;bf61ce31-b20e-4593-85dc-a08313…</td><td>&quot;rainfall&quot;</td><td>&quot;032822&quot;</td></tr><tr><td>&quot;Knitlsey Mill&quot;</td><td>&quot;524a8fa0-d70b-4a0a-b178-ca765e…</td><td>&quot;rainfall&quot;</td><td>&quot;023839&quot;</td></tr><tr><td>&quot;Fulwell&quot;</td><td>&quot;513abf6b-b269-4400-8828-7e833f…</td><td>&quot;rainfall&quot;</td><td>&quot;021028&quot;</td></tr></tbody></table></div>"
      ],
      "text/plain": [
       "shape: (5, 4)\n",
       "┌──────────────────────┬─────────────────────────────────┬───────────┬───────────────────────┐\n",
       "│ label                ┆ hydrology_api_notation          ┆ parameter ┆ flooding_api_notation │\n",
       "│ ---                  ┆ ---                             ┆ ---       ┆ ---                   │\n",
       "│ str                  ┆ str                             ┆ str       ┆ str                   │\n",
       "╞══════════════════════╪═════════════════════════════════╪═══════════╪═══════════════════════╡\n",
       "│ North Dalton         ┆ 9fcbf8c6-b643-4f58-a2be-8beff3… ┆ rainfall  ┆ 025878                │\n",
       "│ Peterlee             ┆ 935b389b-7ab8-46e6-9758-f8eb38… ┆ rainfall  ┆ 026090                │\n",
       "│ Harpington Hill Farm ┆ bf61ce31-b20e-4593-85dc-a08313… ┆ rainfall  ┆ 032822                │\n",
       "│ Knitlsey Mill        ┆ 524a8fa0-d70b-4a0a-b178-ca765e… ┆ rainfall  ┆ 023839                │\n",
       "│ Fulwell              ┆ 513abf6b-b269-4400-8828-7e833f… ┆ rainfall  ┆ 021028                │\n",
       "└──────────────────────┴─────────────────────────────────┴───────────┴───────────────────────┘"
      ]
     },
     "execution_count": 4,
     "metadata": {},
     "output_type": "execute_result"
    }
   ],
   "source": [
    "def lat_long_distance(lat1, long1, lat2, long2):\n",
    "    from math import atan2, cos, radians, sin, sqrt\n",
    "\n",
    "    r_earth = 6373.0\n",
    "\n",
    "    lat1 = radians(lat1)\n",
    "    long1 = radians(long1)\n",
    "    lat2 = radians(lat2)\n",
    "    long2 = radians(long2)\n",
    "\n",
    "    dlat = lat2 - lat1\n",
    "    dlong = long2 - long1\n",
    "\n",
    "    a = sin(dlat / 2) ** 2 + cos(lat1) * cos(lat2) * sin(dlong / 2) ** 2\n",
    "    c = 2 * atan2(sqrt(a), sqrt(1 - a))\n",
    "\n",
    "    distance = r_earth * c\n",
    "\n",
    "    return distance\n",
    "\n",
    "\n",
    "def get_closest(lat, long):\n",
    "    distances = {\n",
    "        notation: lat_long_distance(lat, long, lat2, long2)\n",
    "        for (notation, lat2, long2) in flooding_rainfall_stations[\n",
    "            ['notation', 'lat', 'long']\n",
    "        ].iter_rows()\n",
    "    }\n",
    "    closest = min(distances, key=distances.get)\n",
    "    return {'flooding_api_notation': closest, 'distance_km': distances[closest]}\n",
    "\n",
    "\n",
    "rainfall_stations = (\n",
    "    hydro_rainfall_stations.with_columns(\n",
    "        pl.Series(\n",
    "            [\n",
    "                get_closest(*row)\n",
    "                for row in hydro_rainfall_stations[['lat', 'long']].iter_rows()\n",
    "            ]\n",
    "        )\n",
    "        .alias('closest_station')\n",
    "        .to_frame()\n",
    "        .unnest(columns=['closest_station'])\n",
    "    )\n",
    "    .filter(pl.col('distance_km') <= 0.1) # Position of stations in the flooding API is within a 100m grid for data protection reasons. Not that that helps much.\n",
    "    .select(\n",
    "        pl.col('label'),\n",
    "        pl.col('notation').alias('hydrology_api_notation'),\n",
    "        pl.col('parameter'),\n",
    "        pl.col('flooding_api_notation'),\n",
    "    )\n",
    ")\n",
    "\n",
    "rainfall_stations"
   ]
  },
  {
   "cell_type": "markdown",
   "metadata": {},
   "source": [
    "## Joining Level Stations\n",
    "\n",
    "We can simply join level stations by RLOI ID."
   ]
  },
  {
   "cell_type": "code",
   "execution_count": 5,
   "metadata": {},
   "outputs": [
    {
     "data": {
      "text/html": [
       "<div><style>\n",
       ".dataframe > thead > tr,\n",
       ".dataframe > tbody > tr {\n",
       "  text-align: right;\n",
       "  white-space: pre-wrap;\n",
       "}\n",
       "</style>\n",
       "<small>shape: (5, 4)</small><table border=\"1\" class=\"dataframe\"><thead><tr><th>label</th><th>hydrology_api_notation</th><th>parameter</th><th>flooding_api_notation</th></tr><tr><td>str</td><td>str</td><td>str</td><td>str</td></tr></thead><tbody><tr><td>&quot;Stanhope&quot;</td><td>&quot;b29c481a-5012-40f5-bb0c-f9370b…</td><td>&quot;level&quot;</td><td>&quot;024003&quot;</td></tr><tr><td>&quot;Durham New Elvet Bridge&quot;</td><td>&quot;ba3f8598-e654-430d-9bb8-e1652e…</td><td>&quot;level&quot;</td><td>&quot;0240120&quot;</td></tr><tr><td>&quot;Witton Park&quot;</td><td>&quot;05784319-693a-4d75-b29e-32f01a…</td><td>&quot;level&quot;</td><td>&quot;024008&quot;</td></tr><tr><td>&quot;Chester Le Street&quot;</td><td>&quot;e7d8bbb6-5bba-4057-9f49-a29948…</td><td>&quot;level&quot;</td><td>&quot;024009&quot;</td></tr><tr><td>&quot;Sunderland Bridge&quot;</td><td>&quot;ddedb4d9-b2be-47c1-998d-acbc0f…</td><td>&quot;level&quot;</td><td>&quot;024001&quot;</td></tr></tbody></table></div>"
      ],
      "text/plain": [
       "shape: (5, 4)\n",
       "┌─────────────────────────┬─────────────────────────────────┬───────────┬───────────────────────┐\n",
       "│ label                   ┆ hydrology_api_notation          ┆ parameter ┆ flooding_api_notation │\n",
       "│ ---                     ┆ ---                             ┆ ---       ┆ ---                   │\n",
       "│ str                     ┆ str                             ┆ str       ┆ str                   │\n",
       "╞═════════════════════════╪═════════════════════════════════╪═══════════╪═══════════════════════╡\n",
       "│ Stanhope                ┆ b29c481a-5012-40f5-bb0c-f9370b… ┆ level     ┆ 024003                │\n",
       "│ Durham New Elvet Bridge ┆ ba3f8598-e654-430d-9bb8-e1652e… ┆ level     ┆ 0240120               │\n",
       "│ Witton Park             ┆ 05784319-693a-4d75-b29e-32f01a… ┆ level     ┆ 024008                │\n",
       "│ Chester Le Street       ┆ e7d8bbb6-5bba-4057-9f49-a29948… ┆ level     ┆ 024009                │\n",
       "│ Sunderland Bridge       ┆ ddedb4d9-b2be-47c1-998d-acbc0f… ┆ level     ┆ 024001                │\n",
       "└─────────────────────────┴─────────────────────────────────┴───────────┴───────────────────────┘"
      ]
     },
     "execution_count": 5,
     "metadata": {},
     "output_type": "execute_result"
    }
   ],
   "source": [
    "level_stations = (\n",
    "  hydro_level_stations.join(flooding_level_stations, on='RLOIid', suffix='_flooding')\n",
    "  .select(\n",
    "    pl.col('label'),\n",
    "    pl.col('notation').alias('hydrology_api_notation'),\n",
    "    pl.col('parameter'),\n",
    "    pl.col('notation_flooding').alias('flooding_api_notation')\n",
    "  )\n",
    ")\n",
    "\n",
    "level_stations"
   ]
  },
  {
   "cell_type": "markdown",
   "metadata": {},
   "source": [
    "## Combining\n",
    "We can then combine both dataframes to get all of the stations"
   ]
  },
  {
   "cell_type": "code",
   "execution_count": 6,
   "metadata": {},
   "outputs": [
    {
     "data": {
      "text/html": [
       "<div><style>\n",
       ".dataframe > thead > tr,\n",
       ".dataframe > tbody > tr {\n",
       "  text-align: right;\n",
       "  white-space: pre-wrap;\n",
       "}\n",
       "</style>\n",
       "<small>shape: (10, 4)</small><table border=\"1\" class=\"dataframe\"><thead><tr><th>label</th><th>hydrology_api_notation</th><th>parameter</th><th>flooding_api_notation</th></tr><tr><td>str</td><td>str</td><td>str</td><td>str</td></tr></thead><tbody><tr><td>&quot;North Dalton&quot;</td><td>&quot;9fcbf8c6-b643-4f58-a2be-8beff3…</td><td>&quot;rainfall&quot;</td><td>&quot;025878&quot;</td></tr><tr><td>&quot;Peterlee&quot;</td><td>&quot;935b389b-7ab8-46e6-9758-f8eb38…</td><td>&quot;rainfall&quot;</td><td>&quot;026090&quot;</td></tr><tr><td>&quot;Harpington Hill Farm&quot;</td><td>&quot;bf61ce31-b20e-4593-85dc-a08313…</td><td>&quot;rainfall&quot;</td><td>&quot;032822&quot;</td></tr><tr><td>&quot;Knitlsey Mill&quot;</td><td>&quot;524a8fa0-d70b-4a0a-b178-ca765e…</td><td>&quot;rainfall&quot;</td><td>&quot;023839&quot;</td></tr><tr><td>&quot;Fulwell&quot;</td><td>&quot;513abf6b-b269-4400-8828-7e833f…</td><td>&quot;rainfall&quot;</td><td>&quot;021028&quot;</td></tr><tr><td>&quot;Stanhope&quot;</td><td>&quot;b29c481a-5012-40f5-bb0c-f9370b…</td><td>&quot;level&quot;</td><td>&quot;024003&quot;</td></tr><tr><td>&quot;Durham New Elvet Bridge&quot;</td><td>&quot;ba3f8598-e654-430d-9bb8-e1652e…</td><td>&quot;level&quot;</td><td>&quot;0240120&quot;</td></tr><tr><td>&quot;Witton Park&quot;</td><td>&quot;05784319-693a-4d75-b29e-32f01a…</td><td>&quot;level&quot;</td><td>&quot;024008&quot;</td></tr><tr><td>&quot;Chester Le Street&quot;</td><td>&quot;e7d8bbb6-5bba-4057-9f49-a29948…</td><td>&quot;level&quot;</td><td>&quot;024009&quot;</td></tr><tr><td>&quot;Sunderland Bridge&quot;</td><td>&quot;ddedb4d9-b2be-47c1-998d-acbc0f…</td><td>&quot;level&quot;</td><td>&quot;024001&quot;</td></tr></tbody></table></div>"
      ],
      "text/plain": [
       "shape: (10, 4)\n",
       "┌─────────────────────────┬─────────────────────────────────┬───────────┬───────────────────────┐\n",
       "│ label                   ┆ hydrology_api_notation          ┆ parameter ┆ flooding_api_notation │\n",
       "│ ---                     ┆ ---                             ┆ ---       ┆ ---                   │\n",
       "│ str                     ┆ str                             ┆ str       ┆ str                   │\n",
       "╞═════════════════════════╪═════════════════════════════════╪═══════════╪═══════════════════════╡\n",
       "│ North Dalton            ┆ 9fcbf8c6-b643-4f58-a2be-8beff3… ┆ rainfall  ┆ 025878                │\n",
       "│ Peterlee                ┆ 935b389b-7ab8-46e6-9758-f8eb38… ┆ rainfall  ┆ 026090                │\n",
       "│ Harpington Hill Farm    ┆ bf61ce31-b20e-4593-85dc-a08313… ┆ rainfall  ┆ 032822                │\n",
       "│ Knitlsey Mill           ┆ 524a8fa0-d70b-4a0a-b178-ca765e… ┆ rainfall  ┆ 023839                │\n",
       "│ Fulwell                 ┆ 513abf6b-b269-4400-8828-7e833f… ┆ rainfall  ┆ 021028                │\n",
       "│ Stanhope                ┆ b29c481a-5012-40f5-bb0c-f9370b… ┆ level     ┆ 024003                │\n",
       "│ Durham New Elvet Bridge ┆ ba3f8598-e654-430d-9bb8-e1652e… ┆ level     ┆ 0240120               │\n",
       "│ Witton Park             ┆ 05784319-693a-4d75-b29e-32f01a… ┆ level     ┆ 024008                │\n",
       "│ Chester Le Street       ┆ e7d8bbb6-5bba-4057-9f49-a29948… ┆ level     ┆ 024009                │\n",
       "│ Sunderland Bridge       ┆ ddedb4d9-b2be-47c1-998d-acbc0f… ┆ level     ┆ 024001                │\n",
       "└─────────────────────────┴─────────────────────────────────┴───────────┴───────────────────────┘"
      ]
     },
     "execution_count": 6,
     "metadata": {},
     "output_type": "execute_result"
    }
   ],
   "source": [
    "stations = pl.concat([rainfall_stations, level_stations])\n",
    "\n",
    "stations"
   ]
  },
  {
   "cell_type": "markdown",
   "metadata": {},
   "source": [
    "## Save results"
   ]
  },
  {
   "cell_type": "code",
   "execution_count": 7,
   "metadata": {},
   "outputs": [],
   "source": [
    "stations.write_json('stations.json')"
   ]
  }
 ],
 "metadata": {
  "kernelspec": {
   "display_name": ".venv",
   "language": "python",
   "name": "python3"
  },
  "language_info": {
   "codemirror_mode": {
    "name": "ipython",
    "version": 3
   },
   "file_extension": ".py",
   "mimetype": "text/x-python",
   "name": "python",
   "nbconvert_exporter": "python",
   "pygments_lexer": "ipython3",
   "version": "3.11.9"
  }
 },
 "nbformat": 4,
 "nbformat_minor": 2
}

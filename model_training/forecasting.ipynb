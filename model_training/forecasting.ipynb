{
 "cells": [
  {
   "cell_type": "code",
   "execution_count": 5,
   "metadata": {},
   "outputs": [],
   "source": [
    "from hydrology import HydrologyApi, Measure\n",
    "from datetime import datetime\n",
    "import polars as pl"
   ]
  },
  {
   "cell_type": "markdown",
   "metadata": {},
   "source": [
    "## Load Dataset"
   ]
  },
  {
   "cell_type": "code",
   "execution_count": 6,
   "metadata": {},
   "outputs": [
    {
     "data": {
      "text/html": [
       "<div><style>\n",
       ".dataframe > thead > tr,\n",
       ".dataframe > tbody > tr {\n",
       "  text-align: right;\n",
       "  white-space: pre-wrap;\n",
       "}\n",
       "</style>\n",
       "<small>shape: (5, 16)</small><table border=\"1\" class=\"dataframe\"><thead><tr><th>timestamp</th><th>Durham New Elvet Bridge level-i-900-m</th><th>North Dalton rainfall-t-900-mm</th><th>Sunderland Bridge level-i-900-m</th><th>Chester Le Street level-i-900-m</th><th>Knitlsey Mill rainfall-t-900-mm</th><th>Witton Park level-i-900-m</th><th>Peterlee rainfall-t-900-mm</th><th>Evenwood Gate rainfall-t-900-mm</th><th>Fulwell rainfall-t-900-mm</th><th>Stanhope level-i-900-m</th><th>Tunstall rainfall-t-900-mm</th><th>Harpington Hill Farm rainfall-t-900-mm</th><th>Washington rainfall-t-900-mm</th><th>Stanley Hustledown rainfall-t-900-mm</th><th>ESH Winning rainfall-t-900-mm</th></tr><tr><td>datetime[μs]</td><td>f32</td><td>f32</td><td>f32</td><td>f32</td><td>f32</td><td>f32</td><td>f32</td><td>f32</td><td>f32</td><td>f32</td><td>f32</td><td>f32</td><td>f32</td><td>f32</td><td>f32</td></tr></thead><tbody><tr><td>2007-01-01 00:00:00</td><td>0.726</td><td>0.0</td><td>0.851</td><td>0.824</td><td>0.0</td><td>1.009</td><td>0.0</td><td>0.0</td><td>0.0</td><td>0.859</td><td>0.0</td><td>0.0</td><td>null</td><td>null</td><td>null</td></tr><tr><td>2007-01-01 00:15:00</td><td>0.73</td><td>0.0</td><td>0.863</td><td>0.821</td><td>0.0</td><td>0.997</td><td>0.0</td><td>0.0</td><td>0.0</td><td>0.855</td><td>0.0</td><td>0.0</td><td>null</td><td>null</td><td>null</td></tr><tr><td>2007-01-01 00:30:00</td><td>0.74</td><td>0.0</td><td>0.876</td><td>0.823</td><td>0.0</td><td>1.0</td><td>0.0</td><td>0.0</td><td>0.0</td><td>0.845</td><td>0.0</td><td>0.0</td><td>null</td><td>null</td><td>null</td></tr><tr><td>2007-01-01 00:45:00</td><td>0.744</td><td>0.0</td><td>0.886</td><td>0.819</td><td>0.0</td><td>1.001</td><td>0.0</td><td>0.0</td><td>0.0</td><td>0.826</td><td>0.0</td><td>0.0</td><td>null</td><td>null</td><td>null</td></tr><tr><td>2007-01-01 01:00:00</td><td>0.763</td><td>0.0</td><td>0.894</td><td>0.823</td><td>0.0</td><td>0.993</td><td>0.0</td><td>0.0</td><td>0.0</td><td>0.825</td><td>0.0</td><td>0.0</td><td>null</td><td>null</td><td>null</td></tr></tbody></table></div>"
      ],
      "text/plain": [
       "shape: (5, 16)\n",
       "┌───────────┬───────────┬───────────┬───────────┬───┬───────────┬───────────┬───────────┬──────────┐\n",
       "│ timestamp ┆ Durham    ┆ North     ┆ Sunderlan ┆ … ┆ Harpingto ┆ Washingto ┆ Stanley   ┆ ESH      │\n",
       "│ ---       ┆ New Elvet ┆ Dalton    ┆ d Bridge  ┆   ┆ n Hill    ┆ n rainfal ┆ Hustledow ┆ Winning  │\n",
       "│ datetime[ ┆ Bridge    ┆ rainfall- ┆ level-i-9 ┆   ┆ Farm rain ┆ l-t-900-m ┆ n rainfal ┆ rainfall │\n",
       "│ μs]       ┆ level-…   ┆ t-900-mm  ┆ 00-…      ┆   ┆ fall-…    ┆ m         ┆ l-t-…     ┆ -t-900-m │\n",
       "│           ┆ ---       ┆ ---       ┆ ---       ┆   ┆ ---       ┆ ---       ┆ ---       ┆ m        │\n",
       "│           ┆ f32       ┆ f32       ┆ f32       ┆   ┆ f32       ┆ f32       ┆ f32       ┆ ---      │\n",
       "│           ┆           ┆           ┆           ┆   ┆           ┆           ┆           ┆ f32      │\n",
       "╞═══════════╪═══════════╪═══════════╪═══════════╪═══╪═══════════╪═══════════╪═══════════╪══════════╡\n",
       "│ 2007-01-0 ┆ 0.726     ┆ 0.0       ┆ 0.851     ┆ … ┆ 0.0       ┆ null      ┆ null      ┆ null     │\n",
       "│ 1         ┆           ┆           ┆           ┆   ┆           ┆           ┆           ┆          │\n",
       "│ 00:00:00  ┆           ┆           ┆           ┆   ┆           ┆           ┆           ┆          │\n",
       "│ 2007-01-0 ┆ 0.73      ┆ 0.0       ┆ 0.863     ┆ … ┆ 0.0       ┆ null      ┆ null      ┆ null     │\n",
       "│ 1         ┆           ┆           ┆           ┆   ┆           ┆           ┆           ┆          │\n",
       "│ 00:15:00  ┆           ┆           ┆           ┆   ┆           ┆           ┆           ┆          │\n",
       "│ 2007-01-0 ┆ 0.74      ┆ 0.0       ┆ 0.876     ┆ … ┆ 0.0       ┆ null      ┆ null      ┆ null     │\n",
       "│ 1         ┆           ┆           ┆           ┆   ┆           ┆           ┆           ┆          │\n",
       "│ 00:30:00  ┆           ┆           ┆           ┆   ┆           ┆           ┆           ┆          │\n",
       "│ 2007-01-0 ┆ 0.744     ┆ 0.0       ┆ 0.886     ┆ … ┆ 0.0       ┆ null      ┆ null      ┆ null     │\n",
       "│ 1         ┆           ┆           ┆           ┆   ┆           ┆           ┆           ┆          │\n",
       "│ 00:45:00  ┆           ┆           ┆           ┆   ┆           ┆           ┆           ┆          │\n",
       "│ 2007-01-0 ┆ 0.763     ┆ 0.0       ┆ 0.894     ┆ … ┆ 0.0       ┆ null      ┆ null      ┆ null     │\n",
       "│ 1         ┆           ┆           ┆           ┆   ┆           ┆           ┆           ┆          │\n",
       "│ 01:00:00  ┆           ┆           ┆           ┆   ┆           ┆           ┆           ┆          │\n",
       "└───────────┴───────────┴───────────┴───────────┴───┴───────────┴───────────┴───────────┴──────────┘"
      ]
     },
     "execution_count": 6,
     "metadata": {},
     "output_type": "execute_result"
    }
   ],
   "source": [
    "api = HydrologyApi()\n",
    "level_stations = api.get_stations(Measure.MeasureType.LEVEL, river=\"River Wear\")\n",
    "rainfall_stations = api.get_stations(\n",
    "    Measure.MeasureType.RAINFALL, position=(54.774, -1.558), radius=15\n",
    ")\n",
    "\n",
    "\n",
    "measures = [Measure(station_id, Measure.MeasureType.LEVEL) for station_id in level_stations['station_id']] + [\n",
    "    Measure(station_id, Measure.MeasureType.RAINFALL) for station_id in rainfall_stations['station_id']\n",
    "]\n",
    "\n",
    "stations = pl.concat(\n",
    "    [\n",
    "        level_stations,\n",
    "        rainfall_stations,\n",
    "    ],\n",
    ").unique()\n",
    "\n",
    "df = api.get_measures(measures, stations, start_date=datetime(2007, 1, 1))\n",
    "\n",
    "df.head()"
   ]
  },
  {
   "cell_type": "markdown",
   "metadata": {},
   "source": [
    "## Forecasting"
   ]
  },
  {
   "cell_type": "code",
   "execution_count": null,
   "metadata": {},
   "outputs": [],
   "source": [
    "from neuralforecast.core import NeuralForecast\n",
    "from neuralforecast.auto import NHITS\n",
    "from neuralforecast.losses.pytorch import MQLoss\n",
    "\n",
    "raise NotImplementedError(\"This code is not yet implemented\")\n",
    "\n",
    "train_df = (\n",
    "  df\n",
    "  .reset_index()\n",
    "  .rename_axis(None, axis=1)\n",
    "  .rename(columns={\n",
    "    \"Durham New Elvet Bridge (level)\": \"y\",\n",
    "    \"timestamp\": \"ds\",\n",
    "  })\n",
    "  .assign(unique_id = \"River Wear\")\n",
    ")"
   ]
  },
  {
   "cell_type": "code",
   "execution_count": null,
   "metadata": {},
   "outputs": [],
   "source": [
    "def make_loss():\n",
    "  return MQLoss(quantiles=[0.5, 0.9, 0.99])\n",
    "\n",
    "models = [\n",
    "  NHITS(\n",
    "    h = 4 * 24, # 1 day\n",
    "    input_size = 3 * 4 * 24, # 3 days\n",
    "    hist_exog_list = train_df.columns.drop([\"ds\", \"unique_id\", \"y\"]).to_list(),\n",
    "    scaler_type = 'robust',\n",
    "    loss=make_loss(),\n",
    "    max_steps=1000,\n",
    "  )\n",
    "]\n",
    "\n",
    "nf = NeuralForecast(\n",
    "  models = models,\n",
    "  freq = '15min',\n",
    ")\n",
    "\n",
    "nf.fit(df=train_df)"
   ]
  },
  {
   "cell_type": "code",
   "execution_count": null,
   "metadata": {},
   "outputs": [],
   "source": []
  }
 ],
 "metadata": {
  "kernelspec": {
   "display_name": ".venv",
   "language": "python",
   "name": "python3"
  },
  "language_info": {
   "codemirror_mode": {
    "name": "ipython",
    "version": 3
   },
   "file_extension": ".py",
   "mimetype": "text/x-python",
   "name": "python",
   "nbconvert_exporter": "python",
   "pygments_lexer": "ipython3",
   "version": "3.10.4"
  }
 },
 "nbformat": 4,
 "nbformat_minor": 2
}

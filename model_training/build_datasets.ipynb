{
 "cells": [
  {
   "cell_type": "code",
   "execution_count": 6,
   "metadata": {},
   "outputs": [],
   "source": [
    "import pandas as pd\n",
    "import os\n",
    "import numpy as np\n",
    "from IPython.display import display, HTML, Markdown\n",
    "from hydrology_api import HydrologyApi, Measure, process_hydrology_data"
   ]
  },
  {
   "cell_type": "code",
   "execution_count": 7,
   "metadata": {},
   "outputs": [],
   "source": [
    "api = HydrologyApi(max_threads=5)"
   ]
  },
  {
   "cell_type": "markdown",
   "metadata": {},
   "source": [
    "## Download Level Data"
   ]
  },
  {
   "cell_type": "code",
   "execution_count": 8,
   "metadata": {},
   "outputs": [
    {
     "name": "stdout",
     "output_type": "stream",
     "text": [
      "Loading data for 5 stations: ['Chester Le Street' 'Witton Park' 'Sunderland Bridge' 'Stanhope'\n",
      " 'Durham New Elvet Bridge']\n",
      "Loading from cache: https://environment.data.gov.uk/hydrology/data/batch-readings/batch/?measure=e7d8bbb6-5bba-4057-9f49-a299482c3348-level-i-900-m-qualified&mineq-date=2007-01-01\n",
      "Loading from cache: https://environment.data.gov.uk/hydrology/data/batch-readings/batch/?measure=05784319-693a-4d75-b29e-32f01a99ee4f-level-i-900-m-qualified&mineq-date=2007-01-01\n",
      "Loading from cache: https://environment.data.gov.uk/hydrology/data/batch-readings/batch/?measure=ddedb4d9-b2be-47c1-998d-acbc0ffb124b-level-i-900-m-qualified&mineq-date=2007-01-01\n",
      "Loading from cache: https://environment.data.gov.uk/hydrology/data/batch-readings/batch/?measure=b29c481a-5012-40f5-bb0c-f9370be34975-level-i-900-m-qualified&mineq-date=2007-01-01\n",
      "Loading from cache: https://environment.data.gov.uk/hydrology/data/batch-readings/batch/?measure=ba3f8598-e654-430d-9bb8-e1652e6ff93d-level-i-900-m-qualified&mineq-date=2007-01-01\n",
      "<class 'pandas.core.frame.DataFrame'>\n",
      "DatetimeIndex: 591440 entries, 2007-01-01 00:00:00 to 2023-11-13 19:45:00\n",
      "Freq: 15T\n",
      "Data columns (total 5 columns):\n",
      " #   Column                   Non-Null Count   Dtype  \n",
      "---  ------                   --------------   -----  \n",
      " 0   Chester Le Street        591440 non-null  float16\n",
      " 1   Durham New Elvet Bridge  564299 non-null  float16\n",
      " 2   Stanhope                 502088 non-null  float16\n",
      " 3   Sunderland Bridge        589891 non-null  float16\n",
      " 4   Witton Park              585640 non-null  float16\n",
      "dtypes: float16(5)\n",
      "memory usage: 10.2 MB\n"
     ]
    }
   ],
   "source": [
    "stations = api.get_stations_on_river('River Wear', Measure.LEVEL)\n",
    "print(f\"Loading data for {len(stations)} stations: {stations['label'].values}\")\n",
    "level_df = api.load(Measure.LEVEL, stations)\n",
    "level_df = process_hydrology_data(level_df)\n",
    "level_df.info()"
   ]
  },
  {
   "cell_type": "markdown",
   "metadata": {},
   "source": [
    "## Download Flow Data"
   ]
  },
  {
   "cell_type": "code",
   "execution_count": 9,
   "metadata": {},
   "outputs": [
    {
     "name": "stdout",
     "output_type": "stream",
     "text": [
      "Loading data for 4 stations: ['Chester Le Street' 'Witton Park' 'Sunderland Bridge' 'Stanhope']\n",
      "Loading from cache: https://environment.data.gov.uk/hydrology/data/batch-readings/batch/?measure=e7d8bbb6-5bba-4057-9f49-a299482c3348-flow-i-900-m3s-qualified&mineq-date=2007-01-01\n",
      "Loading from cache: https://environment.data.gov.uk/hydrology/data/batch-readings/batch/?measure=05784319-693a-4d75-b29e-32f01a99ee4f-flow-i-900-m3s-qualified&mineq-date=2007-01-01\n",
      "Loading from cache: https://environment.data.gov.uk/hydrology/data/batch-readings/batch/?measure=ddedb4d9-b2be-47c1-998d-acbc0ffb124b-flow-i-900-m3s-qualified&mineq-date=2007-01-01\n",
      "Loading from cache: https://environment.data.gov.uk/hydrology/data/batch-readings/batch/?measure=b29c481a-5012-40f5-bb0c-f9370be34975-flow-i-900-m3s-qualified&mineq-date=2007-01-01\n",
      "<class 'pandas.core.frame.DataFrame'>\n",
      "DatetimeIndex: 588505 entries, 2007-01-01 00:00:00 to 2023-10-14 06:00:00\n",
      "Freq: 15T\n",
      "Data columns (total 4 columns):\n",
      " #   Column             Non-Null Count   Dtype  \n",
      "---  ------             --------------   -----  \n",
      " 0   Chester Le Street  588505 non-null  float16\n",
      " 1   Stanhope           499151 non-null  float16\n",
      " 2   Sunderland Bridge  586956 non-null  float16\n",
      " 3   Witton Park        582705 non-null  float16\n",
      "dtypes: float16(4)\n",
      "memory usage: 9.0 MB\n"
     ]
    }
   ],
   "source": [
    "stations = api.get_stations_on_river('River Wear', Measure.FLOW)\n",
    "print(f\"Loading data for {len(stations)} stations: {stations['label'].values}\")\n",
    "flow_df = api.load(Measure.FLOW, stations)\n",
    "flow_df = process_hydrology_data(flow_df)\n",
    "flow_df.info()"
   ]
  },
  {
   "cell_type": "markdown",
   "metadata": {},
   "source": [
    "We don't have flow data at New Elvet unfortunatly"
   ]
  },
  {
   "cell_type": "markdown",
   "metadata": {},
   "source": [
    "## Download Rainfall Data"
   ]
  },
  {
   "cell_type": "code",
   "execution_count": 10,
   "metadata": {},
   "outputs": [
    {
     "name": "stdout",
     "output_type": "stream",
     "text": [
      "Using 5 rainfall stations: ['Evenwood Gate' 'Harpington Hill Farm' 'Copley' 'Tunstall'\n",
      " 'Darlington Lingfield Way']\n",
      "Loading from cache: https://environment.data.gov.uk/hydrology/data/batch-readings/batch/?measure=bf61ce31-b20e-4593-85dc-a083133b12ce-rainfall-t-900-mm-qualified&mineq-date=2007-01-01\n",
      "Loading from cache: https://environment.data.gov.uk/hydrology/data/batch-readings/batch/?measure=1dabd12c-1d2e-4765-ae38-a4d5a121928d-rainfall-t-900-mm-qualified&mineq-date=2007-01-01\n",
      "Loading from cache: https://environment.data.gov.uk/hydrology/data/batch-readings/batch/?measure=bc34e640-d9ae-4362-8804-25d66ca66e4d-rainfall-t-900-mm-qualified&mineq-date=2007-01-01\n",
      "Loading from cache: https://environment.data.gov.uk/hydrology/data/batch-readings/batch/?measure=051f1b2a-6aca-4402-8956-5474ad39b12a-rainfall-t-900-mm-qualified&mineq-date=2007-01-01\n",
      "Loading from cache: https://environment.data.gov.uk/hydrology/data/batch-readings/batch/?measure=a8773476-0fde-40c7-a66b-0901e528e8f2-rainfall-t-900-mm-qualified&mineq-date=2007-01-01\n",
      "<class 'pandas.core.frame.DataFrame'>\n",
      "DatetimeIndex: 591440 entries, 2007-01-01 00:00:00 to 2023-11-13 19:45:00\n",
      "Freq: 15T\n",
      "Data columns (total 5 columns):\n",
      " #   Column                    Non-Null Count   Dtype  \n",
      "---  ------                    --------------   -----  \n",
      " 0   Copley                    576838 non-null  float16\n",
      " 1   Darlington Lingfield Way  543094 non-null  float16\n",
      " 2   Evenwood Gate             517952 non-null  float16\n",
      " 3   Harpington Hill Farm      523655 non-null  float16\n",
      " 4   Tunstall                  546527 non-null  float16\n",
      "dtypes: float16(5)\n",
      "memory usage: 10.2 MB\n"
     ]
    }
   ],
   "source": [
    "rainfall_stations = api.get_stations_close_to_with_measure(54.66305556, -1.67611111, 15, Measure.RAINFALL, limit=10)\n",
    "bad_stations = ['15202aee-c5fd-404d-9de9-7357174ad10c']\n",
    "rainfall_stations = rainfall_stations[~rainfall_stations['notation'].isin(bad_stations)].head(5)\n",
    "print(f\"Using {len(rainfall_stations)} rainfall stations: {rainfall_stations['label'].values}\")\n",
    "\n",
    "rainfall_df = api.load(Measure.RAINFALL, rainfall_stations)\n",
    "rainfall_df = process_hydrology_data(rainfall_df)\n",
    "rainfall_df.info()"
   ]
  },
  {
   "cell_type": "code",
   "execution_count": 11,
   "metadata": {},
   "outputs": [
    {
     "name": "stdout",
     "output_type": "stream",
     "text": [
      "<class 'pandas.core.frame.DataFrame'>\n",
      "DatetimeIndex: 591440 entries, 2007-01-01 00:00:00 to 2023-11-13 19:45:00\n",
      "Freq: 15T\n",
      "Data columns (total 14 columns):\n",
      " #   Column                             Non-Null Count   Dtype  \n",
      "---  ------                             --------------   -----  \n",
      " 0   Level Chester Le Street            591440 non-null  float16\n",
      " 1   Level Durham New Elvet Bridge      564299 non-null  float16\n",
      " 2   Level Stanhope                     502088 non-null  float16\n",
      " 3   Level Sunderland Bridge            589891 non-null  float16\n",
      " 4   Level Witton Park                  585640 non-null  float16\n",
      " 5   Flow Chester Le Street             588505 non-null  float16\n",
      " 6   Flow Stanhope                      499151 non-null  float16\n",
      " 7   Flow Sunderland Bridge             586956 non-null  float16\n",
      " 8   Flow Witton Park                   582705 non-null  float16\n",
      " 9   Rainfall Copley                    576838 non-null  float16\n",
      " 10  Rainfall Darlington Lingfield Way  543094 non-null  float16\n",
      " 11  Rainfall Evenwood Gate             517952 non-null  float16\n",
      " 12  Rainfall Harpington Hill Farm      523655 non-null  float16\n",
      " 13  Rainfall Tunstall                  546527 non-null  float16\n",
      "dtypes: float16(14)\n",
      "memory usage: 36.4 MB\n"
     ]
    }
   ],
   "source": [
    "df = pd.merge(\n",
    "    level_df.add_prefix('Level '),\n",
    "    flow_df.add_prefix('Flow '),\n",
    "    left_index=True,\n",
    "    right_index=True,\n",
    "    how='outer',\n",
    ")\n",
    "df = pd.merge(\n",
    "    df,\n",
    "    rainfall_df.add_prefix('Rainfall '),\n",
    "    left_index=True,\n",
    "    right_index=True,\n",
    "    how='outer',\n",
    ")\n",
    "df.info()"
   ]
  },
  {
   "cell_type": "code",
   "execution_count": 12,
   "metadata": {},
   "outputs": [
    {
     "name": "stdout",
     "output_type": "stream",
     "text": [
      "<class 'pandas.core.frame.DataFrame'>\n",
      "DatetimeIndex: 591440 entries, 2007-01-01 00:00:00 to 2023-11-13 19:45:00\n",
      "Freq: 15T\n",
      "Data columns (total 14 columns):\n",
      " #   Column                             Non-Null Count   Dtype  \n",
      "---  ------                             --------------   -----  \n",
      " 0   Level Chester Le Street            591440 non-null  float16\n",
      " 1   Level Durham New Elvet Bridge      591440 non-null  float16\n",
      " 2   Level Stanhope                     591440 non-null  float16\n",
      " 3   Level Sunderland Bridge            591440 non-null  float16\n",
      " 4   Level Witton Park                  591440 non-null  float16\n",
      " 5   Flow Chester Le Street             591440 non-null  float16\n",
      " 6   Flow Stanhope                      591440 non-null  float16\n",
      " 7   Flow Sunderland Bridge             591440 non-null  float16\n",
      " 8   Flow Witton Park                   591440 non-null  float16\n",
      " 9   Rainfall Copley                    591440 non-null  float16\n",
      " 10  Rainfall Darlington Lingfield Way  591440 non-null  float16\n",
      " 11  Rainfall Evenwood Gate             591440 non-null  float16\n",
      " 12  Rainfall Harpington Hill Farm      591440 non-null  float16\n",
      " 13  Rainfall Tunstall                  591440 non-null  float16\n",
      "dtypes: float16(14)\n",
      "memory usage: 36.4 MB\n"
     ]
    }
   ],
   "source": [
    "# Fill na on flow and level by linear interpolation\n",
    "flow_and_level_cols = [col for col in df.columns if col.startswith('Flow') or col.startswith('Level')]\n",
    "df[flow_and_level_cols] = df[flow_and_level_cols].interpolate('time')\n",
    "\n",
    "rainfall_cols = [col for col in df.columns if col.startswith('Rainfall')]\n",
    "df[rainfall_cols] = df[rainfall_cols].fillna(0)\n",
    "\n",
    "df.info()"
   ]
  },
  {
   "cell_type": "markdown",
   "metadata": {},
   "source": [
    "## Add Lag Features"
   ]
  },
  {
   "cell_type": "code",
   "execution_count": 13,
   "metadata": {},
   "outputs": [],
   "source": [
    "df_rainfall_hourly = df.filter(regex='Rainfall').resample('1h').sum().resample('15min').interpolate('time')\n",
    "df_rainfall_six_hourly = df.filter(regex='Rainfall').resample('6h').sum().resample('15min').interpolate('time')\n",
    "df_rainfall_daily = df.filter(regex='Rainfall').resample('1d').sum().resample('15min').interpolate('time')\n",
    "\n",
    "target_cols = ['Level Durham New Elvet Bridge']\n",
    "target_shifts = range(15, 12*60 + 15, 15)\n",
    "level_shifts = [-15, -30, -60, -90, -120, -180, -240, -300, -360, -420, -480, -540, -600, -660, -720, -780, -840, -900]\n",
    "flow_shifts = level_shifts\n",
    "rainfall_min_shifts = [-15, -30, -60]\n",
    "rainfall_hour_shifts = [-2, -3, -4, -5, -6]\n",
    "rainfall_six_hour_shifts = [-12, -18, -24, -30, -36, -42, -48]\n",
    "rainfall_day_shifts = [-3, -4, -5, -6, -7]\n",
    "\n",
    "output_target_cols = []\n",
    "\n",
    "df_lagged = df.copy()\n",
    "\n",
    "for shift in target_shifts:\n",
    "    shifted_df = df[target_cols].shift(shift, freq='min')\n",
    "    shifted_df = shifted_df.add_suffix(f' {shift:+d}min')\n",
    "    output_target_cols.extend(shifted_df.columns)\n",
    "    df_lagged = pd.merge(df_lagged, shifted_df, left_index=True, right_index=True, how='left')\n",
    "\n",
    "for shift in level_shifts:\n",
    "    shifted_df = df.filter(regex='Level').shift(shift, freq='min')\n",
    "    df_lagged = pd.merge(df_lagged, shifted_df.add_suffix(f' {shift:+d}min'), left_index=True, right_index=True, how='left')\n",
    "    \n",
    "for shift in flow_shifts:\n",
    "    shifted_df = df.filter(regex='Flow').shift(shift, freq='min')\n",
    "    df_lagged = pd.merge(df_lagged, shifted_df.add_suffix(f' {shift:+d}min'), left_index=True, right_index=True, how='left')\n",
    "\n",
    "for shift in rainfall_min_shifts:\n",
    "    shifted_df = df.filter(regex='Rainfall').shift(shift, freq='min')\n",
    "    df_lagged = pd.merge(df_lagged, shifted_df.add_suffix(f' {shift:+d}min'), left_index=True, right_index=True, how='left')\n",
    "    \n",
    "for shift in rainfall_hour_shifts:\n",
    "    shifted_df = df_rainfall_hourly.shift(shift, freq='h')\n",
    "    df_lagged = pd.merge(df_lagged, shifted_df.add_suffix(f' {shift:+d}h'), left_index=True, right_index=True, how='left')\n",
    "    \n",
    "for shift in rainfall_six_hour_shifts:\n",
    "    shifted_df = df_rainfall_six_hourly.shift(shift, freq='h')\n",
    "    df_lagged = pd.merge(df_lagged, shifted_df.add_suffix(f' {shift:+d}h'), left_index=True, right_index=True, how='left')\n",
    "        \n",
    "for shift in rainfall_day_shifts:\n",
    "    shifted_df = df_rainfall_daily.shift(shift, freq='d')\n",
    "    df_lagged = pd.merge(df_lagged, shifted_df.add_suffix(f' {shift:+d}d'), left_index=True, right_index=True, how='left')\n",
    "    \n",
    "df_lagged = df_lagged.astype(np.float16)"
   ]
  },
  {
   "cell_type": "code",
   "execution_count": 14,
   "metadata": {},
   "outputs": [
    {
     "name": "stdout",
     "output_type": "stream",
     "text": [
      "<class 'pandas.core.frame.DataFrame'>\n",
      "DatetimeIndex: 590641 entries, 2007-01-01 12:00:00 to 2023-11-06 00:00:00\n",
      "Freq: 15T\n",
      "Columns: 324 entries, Level Chester Le Street to Rainfall Tunstall -7d\n",
      "dtypes: float16(324)\n",
      "memory usage: 369.5 MB\n"
     ]
    }
   ],
   "source": [
    "df_lagged = df_lagged.dropna()\n",
    "df_lagged.info()"
   ]
  },
  {
   "cell_type": "code",
   "execution_count": 15,
   "metadata": {},
   "outputs": [
    {
     "name": "stderr",
     "output_type": "stream",
     "text": [
      "d:\\miniconda3\\envs\\river-level\\Lib\\site-packages\\pyarrow\\pandas_compat.py:373: FutureWarning: is_sparse is deprecated and will be removed in a future version. Check `isinstance(dtype, pd.SparseDtype)` instead.\n",
      "  if _pandas_api.is_sparse(col):\n"
     ]
    }
   ],
   "source": [
    "df_lagged.to_feather('data/river_wear_lagged.feather')"
   ]
  }
 ],
 "metadata": {
  "kernelspec": {
   "display_name": "Python 3.10.6 ('COMP2271_DS')",
   "language": "python",
   "name": "python3"
  },
  "language_info": {
   "codemirror_mode": {
    "name": "ipython",
    "version": 3
   },
   "file_extension": ".py",
   "mimetype": "text/x-python",
   "name": "python",
   "nbconvert_exporter": "python",
   "pygments_lexer": "ipython3",
   "version": "3.11.5"
  },
  "orig_nbformat": 4,
  "vscode": {
   "interpreter": {
    "hash": "8e118ba02d0d63f0776027b45aa6c2794efdfedf6985533f6e5e4217ae01154a"
   }
  }
 },
 "nbformat": 4,
 "nbformat_minor": 2
}

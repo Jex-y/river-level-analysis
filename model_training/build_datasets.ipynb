{
 "cells": [
  {
   "cell_type": "code",
   "execution_count": 1,
   "metadata": {},
   "outputs": [
    {
     "ename": "ModuleNotFoundError",
     "evalue": "No module named 'ujson'",
     "output_type": "error",
     "traceback": [
      "\u001b[1;31m---------------------------------------------------------------------------\u001b[0m",
      "\u001b[1;31mModuleNotFoundError\u001b[0m                       Traceback (most recent call last)",
      "Cell \u001b[1;32mIn[1], line 5\u001b[0m\n\u001b[0;32m      3\u001b[0m \u001b[38;5;28;01mimport\u001b[39;00m \u001b[38;5;21;01mnumpy\u001b[39;00m \u001b[38;5;28;01mas\u001b[39;00m \u001b[38;5;21;01mnp\u001b[39;00m\n\u001b[0;32m      4\u001b[0m \u001b[38;5;28;01mfrom\u001b[39;00m \u001b[38;5;21;01mIPython\u001b[39;00m\u001b[38;5;21;01m.\u001b[39;00m\u001b[38;5;21;01mdisplay\u001b[39;00m \u001b[38;5;28;01mimport\u001b[39;00m display, HTML, Markdown\n\u001b[1;32m----> 5\u001b[0m \u001b[38;5;28;01mfrom\u001b[39;00m \u001b[38;5;21;01mhydrology_api\u001b[39;00m \u001b[38;5;28;01mimport\u001b[39;00m HydrologyApi, Measure, process_hydrology_data\n",
      "File \u001b[1;32md:\\code\\river-level-analysis\\model_training\\hydrology_api\\__init__.py:1\u001b[0m\n\u001b[1;32m----> 1\u001b[0m \u001b[38;5;28;01mfrom\u001b[39;00m \u001b[38;5;21;01m.\u001b[39;00m\u001b[38;5;21;01mhydrology_api\u001b[39;00m \u001b[38;5;28;01mimport\u001b[39;00m Measure, HydrologyApi, process_hydrology_data\n",
      "File \u001b[1;32md:\\code\\river-level-analysis\\model_training\\hydrology_api\\hydrology_api.py:6\u001b[0m\n\u001b[0;32m      4\u001b[0m \u001b[38;5;28;01mfrom\u001b[39;00m \u001b[38;5;21;01mio\u001b[39;00m \u001b[38;5;28;01mimport\u001b[39;00m StringIO\n\u001b[0;32m      5\u001b[0m \u001b[38;5;28;01mimport\u001b[39;00m \u001b[38;5;21;01murllib3\u001b[39;00m\n\u001b[1;32m----> 6\u001b[0m \u001b[38;5;28;01mimport\u001b[39;00m \u001b[38;5;21;01mujson\u001b[39;00m \u001b[38;5;28;01mas\u001b[39;00m \u001b[38;5;21;01mjson\u001b[39;00m\n\u001b[0;32m      7\u001b[0m \u001b[38;5;28;01mimport\u001b[39;00m \u001b[38;5;21;01mpandas\u001b[39;00m \u001b[38;5;28;01mas\u001b[39;00m \u001b[38;5;21;01mpd\u001b[39;00m\n\u001b[0;32m      8\u001b[0m \u001b[38;5;28;01mimport\u001b[39;00m \u001b[38;5;21;01mnumpy\u001b[39;00m \u001b[38;5;28;01mas\u001b[39;00m \u001b[38;5;21;01mnp\u001b[39;00m\n",
      "\u001b[1;31mModuleNotFoundError\u001b[0m: No module named 'ujson'"
     ]
    }
   ],
   "source": [
    "import pandas as pd\n",
    "from hydrology_api import HydrologyApi, Measure, process_hydrology_data"
   ]
  },
  {
   "cell_type": "code",
   "execution_count": 2,
   "metadata": {},
   "outputs": [],
   "source": [
    "api = HydrologyApi(max_threads=5)"
   ]
  },
  {
   "cell_type": "markdown",
   "metadata": {},
   "source": [
    "## Download Level Data"
   ]
  },
  {
   "cell_type": "code",
   "execution_count": 3,
   "metadata": {},
   "outputs": [
    {
     "name": "stdout",
     "output_type": "stream",
     "text": [
      "Loading data for 5 stations: ['Chester Le Street' 'Witton Park' 'Sunderland Bridge' 'Stanhope'\n",
      " 'Durham New Elvet Bridge']\n",
      "Loading from cache: https://environment.data.gov.uk/hydrology/data/batch-readings/batch/?measure=e7d8bbb6-5bba-4057-9f49-a299482c3348-level-i-900-m-qualified&mineq-date=2007-01-01\n",
      "Loading from cache: https://environment.data.gov.uk/hydrology/data/batch-readings/batch/?measure=05784319-693a-4d75-b29e-32f01a99ee4f-level-i-900-m-qualified&mineq-date=2007-01-01\n",
      "Loading from cache: https://environment.data.gov.uk/hydrology/data/batch-readings/batch/?measure=ddedb4d9-b2be-47c1-998d-acbc0ffb124b-level-i-900-m-qualified&mineq-date=2007-01-01\n",
      "Loading from cache: https://environment.data.gov.uk/hydrology/data/batch-readings/batch/?measure=b29c481a-5012-40f5-bb0c-f9370be34975-level-i-900-m-qualified&mineq-date=2007-01-01\n",
      "Loading from cache: https://environment.data.gov.uk/hydrology/data/batch-readings/batch/?measure=ba3f8598-e654-430d-9bb8-e1652e6ff93d-level-i-900-m-qualified&mineq-date=2007-01-01\n"
     ]
    },
    {
     "name": "stderr",
     "output_type": "stream",
     "text": [
      "/home/ejex/code/river-level-analysis/model_training/hydrology_api/hydrology_api.py:98: DtypeWarning: Columns (7) have mixed types. Specify dtype option on import or set low_memory=False.\n",
      "  return pd.read_csv(f)\n",
      "/home/ejex/code/river-level-analysis/model_training/hydrology_api/hydrology_api.py:98: DtypeWarning: Columns (7) have mixed types. Specify dtype option on import or set low_memory=False.\n",
      "  return pd.read_csv(f)\n",
      "/home/ejex/code/river-level-analysis/model_training/hydrology_api/hydrology_api.py:98: DtypeWarning: Columns (7) have mixed types. Specify dtype option on import or set low_memory=False.\n",
      "  return pd.read_csv(f)\n",
      "/home/ejex/code/river-level-analysis/model_training/hydrology_api/hydrology_api.py:98: DtypeWarning: Columns (7) have mixed types. Specify dtype option on import or set low_memory=False.\n",
      "  return pd.read_csv(f)\n",
      "/home/ejex/code/river-level-analysis/model_training/hydrology_api/hydrology_api.py:98: DtypeWarning: Columns (7) have mixed types. Specify dtype option on import or set low_memory=False.\n",
      "  return pd.read_csv(f)\n"
     ]
    },
    {
     "name": "stdout",
     "output_type": "stream",
     "text": [
      "<class 'pandas.core.frame.DataFrame'>\n",
      "DatetimeIndex: 602263 entries, 2007-01-01 00:00:00 to 2024-03-05 13:30:00\n",
      "Freq: 15min\n",
      "Data columns (total 5 columns):\n",
      " #   Column                   Non-Null Count   Dtype  \n",
      "---  ------                   --------------   -----  \n",
      " 0   Chester Le Street        602263 non-null  float32\n",
      " 1   Durham New Elvet Bridge  575122 non-null  float32\n",
      " 2   Stanhope                 512911 non-null  float32\n",
      " 3   Sunderland Bridge        600714 non-null  float32\n",
      " 4   Witton Park              596463 non-null  float32\n",
      "dtypes: float32(5)\n",
      "memory usage: 16.1 MB\n"
     ]
    }
   ],
   "source": [
    "stations = api.get_stations_on_river('River Wear', Measure.LEVEL)\n",
    "print(f\"Loading data for {len(stations)} stations: {stations['label'].values}\")\n",
    "level_df = api.load(Measure.LEVEL, stations)\n",
    "level_df = process_hydrology_data(level_df)\n",
    "level_df.info()"
   ]
  },
  {
   "cell_type": "markdown",
   "metadata": {},
   "source": [
    "## Download Flow Data"
   ]
  },
  {
   "cell_type": "code",
   "execution_count": 4,
   "metadata": {},
   "outputs": [
    {
     "name": "stdout",
     "output_type": "stream",
     "text": [
      "Loading data for 4 stations: ['Chester Le Street' 'Witton Park' 'Sunderland Bridge' 'Stanhope']\n"
     ]
    },
    {
     "name": "stdout",
     "output_type": "stream",
     "text": [
      "Loading from cache: https://environment.data.gov.uk/hydrology/data/batch-readings/batch/?measure=e7d8bbb6-5bba-4057-9f49-a299482c3348-flow-i-900-m3s-qualified&mineq-date=2007-01-01\n",
      "Loading from cache: https://environment.data.gov.uk/hydrology/data/batch-readings/batch/?measure=05784319-693a-4d75-b29e-32f01a99ee4f-flow-i-900-m3s-qualified&mineq-date=2007-01-01\n",
      "Loading from cache: https://environment.data.gov.uk/hydrology/data/batch-readings/batch/?measure=ddedb4d9-b2be-47c1-998d-acbc0ffb124b-flow-i-900-m3s-qualified&mineq-date=2007-01-01\n",
      "Loading from cache: https://environment.data.gov.uk/hydrology/data/batch-readings/batch/?measure=b29c481a-5012-40f5-bb0c-f9370be34975-flow-i-900-m3s-qualified&mineq-date=2007-01-01\n"
     ]
    },
    {
     "name": "stderr",
     "output_type": "stream",
     "text": [
      "/home/ejex/code/river-level-analysis/model_training/hydrology_api/hydrology_api.py:98: DtypeWarning: Columns (7) have mixed types. Specify dtype option on import or set low_memory=False.\n",
      "  return pd.read_csv(f)\n",
      "/home/ejex/code/river-level-analysis/model_training/hydrology_api/hydrology_api.py:98: DtypeWarning: Columns (7) have mixed types. Specify dtype option on import or set low_memory=False.\n",
      "  return pd.read_csv(f)\n",
      "/home/ejex/code/river-level-analysis/model_training/hydrology_api/hydrology_api.py:98: DtypeWarning: Columns (7) have mixed types. Specify dtype option on import or set low_memory=False.\n",
      "  return pd.read_csv(f)\n",
      "/home/ejex/code/river-level-analysis/model_training/hydrology_api/hydrology_api.py:98: DtypeWarning: Columns (7) have mixed types. Specify dtype option on import or set low_memory=False.\n",
      "  return pd.read_csv(f)\n"
     ]
    },
    {
     "name": "stdout",
     "output_type": "stream",
     "text": [
      "<class 'pandas.core.frame.DataFrame'>\n",
      "DatetimeIndex: 592345 entries, 2007-01-01 00:00:00 to 2023-11-23 06:00:00\n",
      "Freq: 15min\n",
      "Data columns (total 4 columns):\n",
      " #   Column             Non-Null Count   Dtype  \n",
      "---  ------             --------------   -----  \n",
      " 0   Chester Le Street  592345 non-null  float32\n",
      " 1   Stanhope           502991 non-null  float32\n",
      " 2   Sunderland Bridge  590796 non-null  float32\n",
      " 3   Witton Park        586545 non-null  float32\n",
      "dtypes: float32(4)\n",
      "memory usage: 13.6 MB\n"
     ]
    }
   ],
   "source": [
    "stations = api.get_stations_on_river('River Wear', Measure.FLOW)\n",
    "print(f\"Loading data for {len(stations)} stations: {stations['label'].values}\")\n",
    "flow_df = api.load(Measure.FLOW, stations)\n",
    "flow_df = process_hydrology_data(flow_df)\n",
    "flow_df.info()"
   ]
  },
  {
   "cell_type": "markdown",
   "metadata": {},
   "source": [
    "We don't have flow data at New Elvet unfortunatly"
   ]
  },
  {
   "cell_type": "markdown",
   "metadata": {},
   "source": [
    "## Download Rainfall Data"
   ]
  },
  {
   "cell_type": "code",
   "execution_count": 5,
   "metadata": {},
   "outputs": [
    {
     "name": "stdout",
     "output_type": "stream",
     "text": [
      "Using 5 rainfall stations: ['Evenwood Gate' 'Harpington Hill Farm' 'Copley' 'Tunstall'\n",
      " 'Darlington Lingfield Way']\n",
      "<class 'pandas.core.frame.DataFrame'>\n",
      "DatetimeIndex: 602263 entries, 2007-01-01 00:00:00 to 2024-03-05 13:30:00\n",
      "Freq: 15min\n",
      "Data columns (total 5 columns):\n",
      " #   Column                    Non-Null Count   Dtype  \n",
      "---  ------                    --------------   -----  \n",
      " 0   Copley                    587661 non-null  float32\n",
      " 1   Darlington Lingfield Way  553917 non-null  float32\n",
      " 2   Evenwood Gate             528775 non-null  float32\n",
      " 3   Harpington Hill Farm      534478 non-null  float32\n",
      " 4   Tunstall                  557350 non-null  float32\n",
      "dtypes: float32(5)\n",
      "memory usage: 16.1 MB\n"
     ]
    },
    {
     "name": "stdout",
     "output_type": "stream",
     "text": [
      "Loading from cache: https://environment.data.gov.uk/hydrology/data/batch-readings/batch/?measure=bf61ce31-b20e-4593-85dc-a083133b12ce-rainfall-t-900-mm-qualified&mineq-date=2007-01-01\n",
      "Loading from cache: https://environment.data.gov.uk/hydrology/data/batch-readings/batch/?measure=1dabd12c-1d2e-4765-ae38-a4d5a121928d-rainfall-t-900-mm-qualified&mineq-date=2007-01-01\n",
      "Loading from cache: https://environment.data.gov.uk/hydrology/data/batch-readings/batch/?measure=bc34e640-d9ae-4362-8804-25d66ca66e4d-rainfall-t-900-mm-qualified&mineq-date=2007-01-01\n",
      "Loading from cache: https://environment.data.gov.uk/hydrology/data/batch-readings/batch/?measure=051f1b2a-6aca-4402-8956-5474ad39b12a-rainfall-t-900-mm-qualified&mineq-date=2007-01-01\n",
      "Loading from cache: https://environment.data.gov.uk/hydrology/data/batch-readings/batch/?measure=a8773476-0fde-40c7-a66b-0901e528e8f2-rainfall-t-900-mm-qualified&mineq-date=2007-01-01\n"
     ]
    },
    {
     "name": "stderr",
     "output_type": "stream",
     "text": [
      "/home/ejex/code/river-level-analysis/model_training/hydrology_api/hydrology_api.py:98: DtypeWarning: Columns (5) have mixed types. Specify dtype option on import or set low_memory=False.\n",
      "  return pd.read_csv(f)\n"
     ]
    }
   ],
   "source": [
    "rainfall_stations = api.get_stations_close_to_with_measure(54.66305556, -1.67611111, 15, Measure.RAINFALL, limit=10)\n",
    "bad_stations = ['15202aee-c5fd-404d-9de9-7357174ad10c']\n",
    "rainfall_stations = rainfall_stations[~rainfall_stations['notation'].isin(bad_stations)].head(5)\n",
    "print(f\"Using {len(rainfall_stations)} rainfall stations: {rainfall_stations['label'].values}\")\n",
    "\n",
    "rainfall_df = api.load(Measure.RAINFALL, rainfall_stations)\n",
    "rainfall_df = process_hydrology_data(rainfall_df)\n",
    "rainfall_df.info()"
   ]
  },
  {
   "cell_type": "code",
   "execution_count": 6,
   "metadata": {},
   "outputs": [
    {
     "name": "stdout",
     "output_type": "stream",
     "text": [
      "<class 'pandas.core.frame.DataFrame'>\n",
      "DatetimeIndex: 602263 entries, 2007-01-01 00:00:00 to 2024-03-05 13:30:00\n",
      "Freq: 15min\n",
      "Data columns (total 14 columns):\n",
      " #   Column                             Non-Null Count   Dtype  \n",
      "---  ------                             --------------   -----  \n",
      " 0   Level Chester Le Street            602263 non-null  float32\n",
      " 1   Level Durham New Elvet Bridge      575122 non-null  float32\n",
      " 2   Level Stanhope                     512911 non-null  float32\n",
      " 3   Level Sunderland Bridge            600714 non-null  float32\n",
      " 4   Level Witton Park                  596463 non-null  float32\n",
      " 5   Flow Chester Le Street             592345 non-null  float32\n",
      " 6   Flow Stanhope                      502991 non-null  float32\n",
      " 7   Flow Sunderland Bridge             590796 non-null  float32\n",
      " 8   Flow Witton Park                   586545 non-null  float32\n",
      " 9   Rainfall Copley                    587661 non-null  float32\n",
      " 10  Rainfall Darlington Lingfield Way  553917 non-null  float32\n",
      " 11  Rainfall Evenwood Gate             528775 non-null  float32\n",
      " 12  Rainfall Harpington Hill Farm      534478 non-null  float32\n",
      " 13  Rainfall Tunstall                  557350 non-null  float32\n",
      "dtypes: float32(14)\n",
      "memory usage: 36.8 MB\n"
     ]
    }
   ],
   "source": [
    "df = pd.merge(\n",
    "    level_df.add_prefix('Level '),\n",
    "    flow_df.add_prefix('Flow '),\n",
    "    left_index=True,\n",
    "    right_index=True,\n",
    "    how='outer',\n",
    ")\n",
    "df = pd.merge(\n",
    "    df,\n",
    "    rainfall_df.add_prefix('Rainfall '),\n",
    "    left_index=True,\n",
    "    right_index=True,\n",
    "    how='outer',\n",
    ")\n",
    "df.info()"
   ]
  },
  {
   "cell_type": "code",
   "execution_count": 7,
   "metadata": {},
   "outputs": [
    {
     "name": "stdout",
     "output_type": "stream",
     "text": [
      "<class 'pandas.core.frame.DataFrame'>\n",
      "DatetimeIndex: 602263 entries, 2007-01-01 00:00:00 to 2024-03-05 13:30:00\n",
      "Freq: 15min\n",
      "Data columns (total 14 columns):\n",
      " #   Column                             Non-Null Count   Dtype  \n",
      "---  ------                             --------------   -----  \n",
      " 0   Level Chester Le Street            602263 non-null  float32\n",
      " 1   Level Durham New Elvet Bridge      602263 non-null  float32\n",
      " 2   Level Stanhope                     602263 non-null  float32\n",
      " 3   Level Sunderland Bridge            602263 non-null  float32\n",
      " 4   Level Witton Park                  602263 non-null  float32\n",
      " 5   Flow Chester Le Street             602263 non-null  float32\n",
      " 6   Flow Stanhope                      602263 non-null  float32\n",
      " 7   Flow Sunderland Bridge             602263 non-null  float32\n",
      " 8   Flow Witton Park                   602263 non-null  float32\n",
      " 9   Rainfall Copley                    602263 non-null  float32\n",
      " 10  Rainfall Darlington Lingfield Way  602263 non-null  float32\n",
      " 11  Rainfall Evenwood Gate             602263 non-null  float32\n",
      " 12  Rainfall Harpington Hill Farm      602263 non-null  float32\n",
      " 13  Rainfall Tunstall                  602263 non-null  float32\n",
      "dtypes: float32(14)\n",
      "memory usage: 36.8 MB\n"
     ]
    }
   ],
   "source": [
    "# Fill na on flow and level by linear interpolation\n",
    "flow_and_level_cols = [col for col in df.columns if col.startswith('Flow') or col.startswith('Level')]\n",
    "df[flow_and_level_cols] = df[flow_and_level_cols].interpolate('time')\n",
    "\n",
    "rainfall_cols = [col for col in df.columns if col.startswith('Rainfall')]\n",
    "df[rainfall_cols] = df[rainfall_cols].fillna(0)\n",
    "\n",
    "df.info()"
   ]
  },
  {
   "cell_type": "code",
   "execution_count": 10,
   "metadata": {},
   "outputs": [
    {
     "data": {
      "text/html": [
       "<div>\n",
       "<style scoped>\n",
       "    .dataframe tbody tr th:only-of-type {\n",
       "        vertical-align: middle;\n",
       "    }\n",
       "\n",
       "    .dataframe tbody tr th {\n",
       "        vertical-align: top;\n",
       "    }\n",
       "\n",
       "    .dataframe thead th {\n",
       "        text-align: right;\n",
       "    }\n",
       "</style>\n",
       "<table border=\"1\" class=\"dataframe\">\n",
       "  <thead>\n",
       "    <tr style=\"text-align: right;\">\n",
       "      <th>station</th>\n",
       "      <th>Level Chester Le Street</th>\n",
       "      <th>Level Durham New Elvet Bridge</th>\n",
       "      <th>Level Stanhope</th>\n",
       "      <th>Level Sunderland Bridge</th>\n",
       "      <th>Level Witton Park</th>\n",
       "      <th>Flow Chester Le Street</th>\n",
       "      <th>Flow Stanhope</th>\n",
       "      <th>Flow Sunderland Bridge</th>\n",
       "      <th>Flow Witton Park</th>\n",
       "      <th>Rainfall Copley</th>\n",
       "      <th>Rainfall Darlington Lingfield Way</th>\n",
       "      <th>Rainfall Evenwood Gate</th>\n",
       "      <th>Rainfall Harpington Hill Farm</th>\n",
       "      <th>Rainfall Tunstall</th>\n",
       "    </tr>\n",
       "    <tr>\n",
       "      <th>dateTime</th>\n",
       "      <th></th>\n",
       "      <th></th>\n",
       "      <th></th>\n",
       "      <th></th>\n",
       "      <th></th>\n",
       "      <th></th>\n",
       "      <th></th>\n",
       "      <th></th>\n",
       "      <th></th>\n",
       "      <th></th>\n",
       "      <th></th>\n",
       "      <th></th>\n",
       "      <th></th>\n",
       "      <th></th>\n",
       "    </tr>\n",
       "  </thead>\n",
       "  <tbody>\n",
       "    <tr>\n",
       "      <th>2024-03-05 12:30:00</th>\n",
       "      <td>0.670</td>\n",
       "      <td>0.563</td>\n",
       "      <td>0.856</td>\n",
       "      <td>0.704</td>\n",
       "      <td>0.838</td>\n",
       "      <td>23.4</td>\n",
       "      <td>5.36</td>\n",
       "      <td>16.5</td>\n",
       "      <td>11.7</td>\n",
       "      <td>0.0</td>\n",
       "      <td>0.0</td>\n",
       "      <td>0.0</td>\n",
       "      <td>0.0</td>\n",
       "      <td>0.0</td>\n",
       "    </tr>\n",
       "    <tr>\n",
       "      <th>2024-03-05 12:45:00</th>\n",
       "      <td>0.671</td>\n",
       "      <td>0.569</td>\n",
       "      <td>0.855</td>\n",
       "      <td>0.711</td>\n",
       "      <td>0.836</td>\n",
       "      <td>23.4</td>\n",
       "      <td>5.36</td>\n",
       "      <td>16.5</td>\n",
       "      <td>11.7</td>\n",
       "      <td>0.0</td>\n",
       "      <td>0.0</td>\n",
       "      <td>0.0</td>\n",
       "      <td>0.0</td>\n",
       "      <td>0.0</td>\n",
       "    </tr>\n",
       "    <tr>\n",
       "      <th>2024-03-05 13:00:00</th>\n",
       "      <td>0.672</td>\n",
       "      <td>0.578</td>\n",
       "      <td>0.848</td>\n",
       "      <td>0.717</td>\n",
       "      <td>0.826</td>\n",
       "      <td>23.4</td>\n",
       "      <td>5.36</td>\n",
       "      <td>16.5</td>\n",
       "      <td>11.7</td>\n",
       "      <td>0.0</td>\n",
       "      <td>0.0</td>\n",
       "      <td>0.0</td>\n",
       "      <td>0.0</td>\n",
       "      <td>0.0</td>\n",
       "    </tr>\n",
       "    <tr>\n",
       "      <th>2024-03-05 13:15:00</th>\n",
       "      <td>0.672</td>\n",
       "      <td>0.588</td>\n",
       "      <td>0.844</td>\n",
       "      <td>0.720</td>\n",
       "      <td>0.827</td>\n",
       "      <td>23.4</td>\n",
       "      <td>5.36</td>\n",
       "      <td>16.5</td>\n",
       "      <td>11.7</td>\n",
       "      <td>0.0</td>\n",
       "      <td>0.0</td>\n",
       "      <td>0.0</td>\n",
       "      <td>0.0</td>\n",
       "      <td>0.0</td>\n",
       "    </tr>\n",
       "    <tr>\n",
       "      <th>2024-03-05 13:30:00</th>\n",
       "      <td>0.674</td>\n",
       "      <td>0.600</td>\n",
       "      <td>0.841</td>\n",
       "      <td>0.724</td>\n",
       "      <td>0.825</td>\n",
       "      <td>23.4</td>\n",
       "      <td>5.36</td>\n",
       "      <td>16.5</td>\n",
       "      <td>11.7</td>\n",
       "      <td>0.0</td>\n",
       "      <td>0.0</td>\n",
       "      <td>0.0</td>\n",
       "      <td>0.0</td>\n",
       "      <td>0.0</td>\n",
       "    </tr>\n",
       "  </tbody>\n",
       "</table>\n",
       "</div>"
      ],
      "text/plain": [
       "station              Level Chester Le Street  Level Durham New Elvet Bridge  \\\n",
       "dateTime                                                                      \n",
       "2024-03-05 12:30:00                    0.670                          0.563   \n",
       "2024-03-05 12:45:00                    0.671                          0.569   \n",
       "2024-03-05 13:00:00                    0.672                          0.578   \n",
       "2024-03-05 13:15:00                    0.672                          0.588   \n",
       "2024-03-05 13:30:00                    0.674                          0.600   \n",
       "\n",
       "station              Level Stanhope  Level Sunderland Bridge  \\\n",
       "dateTime                                                       \n",
       "2024-03-05 12:30:00           0.856                    0.704   \n",
       "2024-03-05 12:45:00           0.855                    0.711   \n",
       "2024-03-05 13:00:00           0.848                    0.717   \n",
       "2024-03-05 13:15:00           0.844                    0.720   \n",
       "2024-03-05 13:30:00           0.841                    0.724   \n",
       "\n",
       "station              Level Witton Park  Flow Chester Le Street  Flow Stanhope  \\\n",
       "dateTime                                                                        \n",
       "2024-03-05 12:30:00              0.838                    23.4           5.36   \n",
       "2024-03-05 12:45:00              0.836                    23.4           5.36   \n",
       "2024-03-05 13:00:00              0.826                    23.4           5.36   \n",
       "2024-03-05 13:15:00              0.827                    23.4           5.36   \n",
       "2024-03-05 13:30:00              0.825                    23.4           5.36   \n",
       "\n",
       "station              Flow Sunderland Bridge  Flow Witton Park  \\\n",
       "dateTime                                                        \n",
       "2024-03-05 12:30:00                    16.5              11.7   \n",
       "2024-03-05 12:45:00                    16.5              11.7   \n",
       "2024-03-05 13:00:00                    16.5              11.7   \n",
       "2024-03-05 13:15:00                    16.5              11.7   \n",
       "2024-03-05 13:30:00                    16.5              11.7   \n",
       "\n",
       "station              Rainfall Copley  Rainfall Darlington Lingfield Way  \\\n",
       "dateTime                                                                  \n",
       "2024-03-05 12:30:00              0.0                                0.0   \n",
       "2024-03-05 12:45:00              0.0                                0.0   \n",
       "2024-03-05 13:00:00              0.0                                0.0   \n",
       "2024-03-05 13:15:00              0.0                                0.0   \n",
       "2024-03-05 13:30:00              0.0                                0.0   \n",
       "\n",
       "station              Rainfall Evenwood Gate  Rainfall Harpington Hill Farm  \\\n",
       "dateTime                                                                     \n",
       "2024-03-05 12:30:00                     0.0                            0.0   \n",
       "2024-03-05 12:45:00                     0.0                            0.0   \n",
       "2024-03-05 13:00:00                     0.0                            0.0   \n",
       "2024-03-05 13:15:00                     0.0                            0.0   \n",
       "2024-03-05 13:30:00                     0.0                            0.0   \n",
       "\n",
       "station              Rainfall Tunstall  \n",
       "dateTime                                \n",
       "2024-03-05 12:30:00                0.0  \n",
       "2024-03-05 12:45:00                0.0  \n",
       "2024-03-05 13:00:00                0.0  \n",
       "2024-03-05 13:15:00                0.0  \n",
       "2024-03-05 13:30:00                0.0  "
      ]
     },
     "execution_count": 10,
     "metadata": {},
     "output_type": "execute_result"
    }
   ],
   "source": [
    "df.to_parquet('data.parquet')\n",
    "df.tail()"
   ]
  }
 ],
 "metadata": {
  "kernelspec": {
   "display_name": "Python 3.10.6 ('COMP2271_DS')",
   "language": "python",
   "name": "python3"
  },
  "language_info": {
   "codemirror_mode": {
    "name": "ipython",
    "version": 3
   },
   "file_extension": ".py",
   "mimetype": "text/x-python",
   "name": "python",
   "nbconvert_exporter": "python",
   "pygments_lexer": "ipython3",
   "version": "3.10.13"
  },
  "orig_nbformat": 4,
  "vscode": {
   "interpreter": {
    "hash": "8e118ba02d0d63f0776027b45aa6c2794efdfedf6985533f6e5e4217ae01154a"
   }
  }
 },
 "nbformat": 4,
 "nbformat_minor": 2
}

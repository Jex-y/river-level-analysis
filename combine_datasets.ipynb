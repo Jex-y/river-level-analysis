{
 "cells": [
  {
   "cell_type": "code",
   "execution_count": 1,
   "metadata": {},
   "outputs": [],
   "source": [
    "import pandas as pd"
   ]
  },
  {
   "cell_type": "code",
   "execution_count": 2,
   "metadata": {},
   "outputs": [],
   "source": [
    "level_df = pd.read_parquet('data/river_wear_level.parquet')\n",
    "for lag in [15, 30, 45, 60, 90, 120, 60*3, 60*4, 60*5, 60*6, 60*8, 60*12, 60*16, 60*24]:\n",
    "  level_df.copy().shift(lag, freq='min').to_parquet(f'data/river_wear_level_lag_{lag}min.parquet')\n"
   ]
  },
  {
   "cell_type": "code",
   "execution_count": 4,
   "metadata": {},
   "outputs": [],
   "source": [
    "flow_df = pd.read_parquet('data/river_wear_flow.parquet')\n",
    "for lag in [15, 30, 45, 60, 90, 120, 60*3, 60*4, 60*5, 60*6, 60*8, 60*12, 60*16, 60*24]:\n",
    "  flow_df.copy().shift(lag, freq='min').to_parquet(f'data/river_wear_flow_lag_{lag}min.parquet')"
   ]
  },
  {
   "cell_type": "code",
   "execution_count": 1,
   "metadata": {},
   "outputs": [
    {
     "name": "stdout",
     "output_type": "stream",
     "text": [
      "['data/rainfall_5.parquet', 'data/rainfall_15.parquet', 'data/rainfall_10.parquet', 'data/rainfall_0.parquet']\n"
     ]
    }
   ],
   "source": [
    "import re, os\n",
    "pattern = re.compile(r'rainfall_\\d*')\n",
    "rainfall_dfs = [\n",
    "  os.path.join('data', f) for f in os.listdir('data') if pattern.match(f)\n",
    "] \n",
    "\n",
    "for df in rainfall_dfs:\n",
    "  for lag in [15, 30, 45, 60]:\n",
    "    df.copy().shift(lag, freq='min').to_parquet(f'data/rainfall_lag_{lag}min.parquet')\n",
    "  df = df.copy().resample('1H').sum()\n",
    "  for lag in [2, 3, 4, 5, 6]:\n",
    "    df.copy().shift(lag, freq='H').to_parquet(f'data/rainfall_lag_{lag}h.parquet')\n",
    "  df = df.copy().resample('6H').sum()\n",
    "  for lag in [2, 3, 4]:\n",
    "    df.copy().shift(lag, freq='6H').to_parquet(f'data/rainfall_lag_{lag*6}h.parquet')\n",
    "  df = df.copy().resample('1D').sum()\n",
    "  for lag in [2, 3, 4, 5, 6, 7]:\n",
    "    df.copy().shift(lag, freq='D').to_parquet(f'data/rainfall_lag_{lag}d.parquet')\n",
    "    "
   ]
  }
 ],
 "metadata": {
  "kernelspec": {
   "display_name": "Python 3",
   "language": "python",
   "name": "python3"
  },
  "language_info": {
   "codemirror_mode": {
    "name": "ipython",
    "version": 3
   },
   "file_extension": ".py",
   "mimetype": "text/x-python",
   "name": "python",
   "nbconvert_exporter": "python",
   "pygments_lexer": "ipython3",
   "version": "3.10.12"
  }
 },
 "nbformat": 4,
 "nbformat_minor": 2
}
